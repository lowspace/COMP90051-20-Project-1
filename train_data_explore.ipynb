{
 "cells": [
  {
   "cell_type": "markdown",
   "metadata": {},
   "source": [
    "# SML ASSIGN 1"
   ]
  },
  {
   "cell_type": "code",
   "execution_count": 1,
   "metadata": {},
   "outputs": [],
   "source": [
    "train = open(\"train.txt\", \"r\")\n",
    "data = train.readlines()"
   ]
  },
  {
   "cell_type": "code",
   "execution_count": 37,
   "metadata": {},
   "outputs": [
    {
     "name": "stdout",
     "output_type": "stream",
     "text": [
      "this is the number of follower ids 20000\n",
      "this is the number of ids being followed with count 4867136\n",
      "37\n",
      "this is the number of ids being followed with freq 4867136\n",
      "0.00185\n"
     ]
    }
   ],
   "source": [
    "follow_list = []\n",
    "nodeA_list = []\n",
    "for line in data:\n",
    "    list = line.strip(\"\\n\").split(\"\\t\")\n",
    "    follow_list.append(list)\n",
    "    nodeA_list.append(list[0])\n",
    "\n",
    "follow_dict = {}\n",
    "for follow in follow_list:\n",
    "    follow_dict[follow[0]] = follow[1:]\n",
    "\n",
    "follow_freq = {}\n",
    "for list in follow_dict.values():\n",
    "    for id in list:\n",
    "        if id in follow_freq.keys():\n",
    "            follow_freq[id] += 1\n",
    "        else:\n",
    "            follow_freq[id] = 1\n",
    "\n",
    "print(\"this is the number of follower ids\", len(follow_dict))\n",
    "\n",
    "print(\"this is the number of ids being followed with count\", len(follow_freq))\n",
    "follow_prob = {}\n",
    "for id in follow_freq.keys():\n",
    "    follow_prob[id] = follow_freq[id]/len(nodeA_list)\n",
    "print(follow_freq[\"1912140\"])\n",
    "print(\"this is the number of ids being followed with freq\", len(follow_prob))\n",
    "print(follow_prob[\"1912140\"])\n"
   ]
  },
  {
   "cell_type": "code",
   "execution_count": 38,
   "metadata": {},
   "outputs": [
    {
     "name": "stdout",
     "output_type": "stream",
     "text": [
      "955840\n",
      "1\n"
     ]
    }
   ],
   "source": [
    "print(min(follow_freq, key=follow_freq.get))\n",
    "print(follow_freq[\"955840\"])"
   ]
  },
  {
   "cell_type": "code",
   "execution_count": 39,
   "metadata": {},
   "outputs": [
    {
     "name": "stdout",
     "output_type": "stream",
     "text": [
      "3361377\n",
      "4841\n"
     ]
    }
   ],
   "source": [
    "print(max(follow_freq, key=follow_freq.get))\n",
    "print(follow_freq[\"3361377\"])"
   ]
  },
  {
   "cell_type": "code",
   "execution_count": 40,
   "metadata": {},
   "outputs": [
    {
     "name": "stdout",
     "output_type": "stream",
     "text": [
      "955840\n",
      "5e-05\n"
     ]
    }
   ],
   "source": [
    "print(min(follow_prob, key=follow_prob.get))\n",
    "print(follow_prob[\"955840\"])"
   ]
  },
  {
   "cell_type": "code",
   "execution_count": 41,
   "metadata": {},
   "outputs": [
    {
     "name": "stdout",
     "output_type": "stream",
     "text": [
      "3361377\n",
      "0.24205\n"
     ]
    }
   ],
   "source": [
    "print(max(follow_prob, key=follow_prob.get))\n",
    "print(follow_prob[\"3361377\"])"
   ]
  },
  {
   "cell_type": "code",
   "execution_count": 16,
   "metadata": {},
   "outputs": [],
   "source": [
    "\n",
    "sorted_prob = sorted(follow_prob.items(),key = lambda x:x[1],reverse = True)\n"
   ]
  },
  {
   "cell_type": "code",
   "execution_count": 18,
   "metadata": {},
   "outputs": [
    {
     "name": "stdout",
     "output_type": "stream",
     "text": [
      "('3361377', 0.0009946301069047587)\n"
     ]
    }
   ],
   "source": [
    "print(sorted_prob[0])"
   ]
  },
  {
   "cell_type": "code",
   "execution_count": 20,
   "metadata": {},
   "outputs": [],
   "source": [
    "nodeB_list = []\n",
    "for key in follow_freq.keys():\n",
    "    nodeB_list.append(key)"
   ]
  },
  {
   "cell_type": "code",
   "execution_count": 22,
   "metadata": {},
   "outputs": [
    {
     "name": "stdout",
     "output_type": "stream",
     "text": [
      "143\n"
     ]
    }
   ],
   "source": [
    "#20000个id每个follow了多少人\n",
    "follow_count = {}\n",
    "for id in follow_dict.keys():\n",
    "    follow_count[id] = len(follow_dict[id])\n",
    "print(follow_count[\"540762\"])"
   ]
  },
  {
   "cell_type": "code",
   "execution_count": 24,
   "metadata": {},
   "outputs": [
    {
     "name": "stdout",
     "output_type": "stream",
     "text": [
      "144\n"
     ]
    }
   ],
   "source": [
    "print(len(data[0].split(\"\\t\")))"
   ]
  },
  {
   "cell_type": "code",
   "execution_count": 25,
   "metadata": {},
   "outputs": [
    {
     "name": "stdout",
     "output_type": "stream",
     "text": [
      "[['540762', '1912140'], ['540762', '1537559'], ['540762', '3091331'], ['540762', '2757277'], ['540762', '3237295'], ['540762', '1070876'], ['540762', '4008078'], ['540762', '1824878'], ['540762', '1005927'], ['540762', '2703564']]\n",
      "[1, 1, 1, 1, 1, 1, 1, 1, 1, 1]\n"
     ]
    }
   ],
   "source": [
    "train_data = []\n",
    "label = []\n",
    "\n",
    "for A, L in follow_dict.items():\n",
    "    for B in L:\n",
    "        train_data.append([A,B])\n",
    "        label.append(1)\n",
    "print(train_data[:10])\n",
    "print(label[:10])"
   ]
  },
  {
   "cell_type": "code",
   "execution_count": 26,
   "metadata": {},
   "outputs": [],
   "source": [
    "\n",
    "import pandas as pd\n"
   ]
  },
  {
   "cell_type": "code",
   "execution_count": 27,
   "metadata": {},
   "outputs": [],
   "source": [
    "train_data_csv = {\"pair\":train_data, \"label\":label}"
   ]
  },
  {
   "cell_type": "code",
   "execution_count": 30,
   "metadata": {},
   "outputs": [],
   "source": [
    "train_data_csv = pd.DataFrame(train_data_csv)"
   ]
  },
  {
   "cell_type": "code",
   "execution_count": 31,
   "metadata": {},
   "outputs": [
    {
     "data": {
      "text/html": [
       "<div>\n",
       "<style scoped>\n",
       "    .dataframe tbody tr th:only-of-type {\n",
       "        vertical-align: middle;\n",
       "    }\n",
       "\n",
       "    .dataframe tbody tr th {\n",
       "        vertical-align: top;\n",
       "    }\n",
       "\n",
       "    .dataframe thead th {\n",
       "        text-align: right;\n",
       "    }\n",
       "</style>\n",
       "<table border=\"1\" class=\"dataframe\">\n",
       "  <thead>\n",
       "    <tr style=\"text-align: right;\">\n",
       "      <th></th>\n",
       "      <th>pair</th>\n",
       "      <th>label</th>\n",
       "    </tr>\n",
       "  </thead>\n",
       "  <tbody>\n",
       "    <tr>\n",
       "      <th>0</th>\n",
       "      <td>[540762, 1912140]</td>\n",
       "      <td>1</td>\n",
       "    </tr>\n",
       "    <tr>\n",
       "      <th>1</th>\n",
       "      <td>[540762, 1537559]</td>\n",
       "      <td>1</td>\n",
       "    </tr>\n",
       "    <tr>\n",
       "      <th>2</th>\n",
       "      <td>[540762, 3091331]</td>\n",
       "      <td>1</td>\n",
       "    </tr>\n",
       "    <tr>\n",
       "      <th>3</th>\n",
       "      <td>[540762, 2757277]</td>\n",
       "      <td>1</td>\n",
       "    </tr>\n",
       "    <tr>\n",
       "      <th>4</th>\n",
       "      <td>[540762, 3237295]</td>\n",
       "      <td>1</td>\n",
       "    </tr>\n",
       "  </tbody>\n",
       "</table>\n",
       "</div>"
      ],
      "text/plain": [
       "                pair  label\n",
       "0  [540762, 1912140]      1\n",
       "1  [540762, 1537559]      1\n",
       "2  [540762, 3091331]      1\n",
       "3  [540762, 2757277]      1\n",
       "4  [540762, 3237295]      1"
      ]
     },
     "execution_count": 31,
     "metadata": {},
     "output_type": "execute_result"
    }
   ],
   "source": [
    "train_data_csv.head()"
   ]
  },
  {
   "cell_type": "code",
   "execution_count": 36,
   "metadata": {},
   "outputs": [],
   "source": [
    "train_data_csv.to_csv(r'C:\\Users\\19501\\OneDrive\\Desktop\\data\\train_data.csv') "
   ]
  },
  {
   "cell_type": "code",
   "execution_count": 35,
   "metadata": {},
   "outputs": [
    {
     "name": "stdout",
     "output_type": "stream",
     "text": [
      "24004361\n"
     ]
    }
   ],
   "source": [
    "print(len(train_data))"
   ]
  }
 ],
 "metadata": {
  "kernelspec": {
   "display_name": "Python 3",
   "language": "python",
   "name": "python3"
  },
  "language_info": {
   "codemirror_mode": {
    "name": "ipython",
    "version": 3
   },
   "file_extension": ".py",
   "mimetype": "text/x-python",
   "name": "python",
   "nbconvert_exporter": "python",
   "pygments_lexer": "ipython3",
   "version": "3.7.6"
  }
 },
 "nbformat": 4,
 "nbformat_minor": 4
}
